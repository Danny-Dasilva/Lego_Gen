{
  "nbformat": 4,
  "nbformat_minor": 0,
  "metadata": {
    "colab": {
      "name": "BSP.ipynb",
      "provenance": [],
      "collapsed_sections": [],
      "authorship_tag": "ABX9TyN0Hf9aU9cyjqzPS6XSJ1qu",
      "include_colab_link": true
    },
    "kernelspec": {
      "name": "python3",
      "display_name": "Python 3"
    },
    "language_info": {
      "name": "python"
    }
  },
  "cells": [
    {
      "cell_type": "markdown",
      "metadata": {
        "id": "view-in-github",
        "colab_type": "text"
      },
      "source": [
        "<a href=\"https://colab.research.google.com/github/Danny-Dasilva/Lego_Gen/blob/main/Notebooks/BSP.ipynb\" target=\"_parent\"><img src=\"https://colab.research.google.com/assets/colab-badge.svg\" alt=\"Open In Colab\"/></a>"
      ]
    },
    {
      "cell_type": "code",
      "metadata": {
        "colab": {
          "base_uri": "https://localhost:8080/"
        },
        "id": "v4Wq4il0qJPo",
        "outputId": "5bc86754-eb5f-4457-be51-b85aa5ace1be"
      },
      "source": [
        "!pip3 install plotly colour"
      ],
      "execution_count": null,
      "outputs": [
        {
          "output_type": "stream",
          "text": [
            "Requirement already satisfied: plotly in /usr/local/lib/python3.7/dist-packages (4.4.1)\n",
            "Collecting colour\n",
            "  Downloading https://files.pythonhosted.org/packages/74/46/e81907704ab203206769dee1385dc77e1407576ff8f50a0681d0a6b541be/colour-0.1.5-py2.py3-none-any.whl\n",
            "Requirement already satisfied: retrying>=1.3.3 in /usr/local/lib/python3.7/dist-packages (from plotly) (1.3.3)\n",
            "Requirement already satisfied: six in /usr/local/lib/python3.7/dist-packages (from plotly) (1.15.0)\n",
            "Installing collected packages: colour\n",
            "Successfully installed colour-0.1.5\n"
          ],
          "name": "stdout"
        }
      ]
    },
    {
      "cell_type": "code",
      "metadata": {
        "id": "KmUH4YEu2XZ0"
      },
      "source": [
        "\n",
        "# print(random.choice(hex_colors_only))\n",
        "from colour import Color\n",
        "red = Color(\"red\")\n",
        "colors = list(red.range_to(Color(\"green\"),10))"
      ],
      "execution_count": null,
      "outputs": []
    },
    {
      "cell_type": "code",
      "metadata": {
        "colab": {
          "base_uri": "https://localhost:8080/",
          "height": 35
        },
        "id": "AkdOcXI-g1NX",
        "outputId": "2bbf2889-9442-4fc7-fcd1-f5bc95d0edfb"
      },
      "source": [
        ""
      ],
      "execution_count": null,
      "outputs": [
        {
          "output_type": "execute_result",
          "data": {
            "application/vnd.google.colaboratory.intrinsic+json": {
              "type": "string"
            },
            "text/plain": [
              "'#f13600'"
            ]
          },
          "metadata": {
            "tags": []
          },
          "execution_count": 29
        }
      ]
    },
    {
      "cell_type": "code",
      "metadata": {
        "id": "6F3kRMgxhENo"
      },
      "source": [
        "data = [[{'x': -1.0, 'y': 1.0, 'z': -1.0}, {'x': -1.0792500972747803, 'y': 0.5590584874153137, 'z': -0.3550416827201843}, {'x': 0.920749843120575, 'y': 0.5590584874153137, 'z': -0.3550416827201843}, {'x': 1.0, 'y': 1.0, 'z': -1.0}], [{'x': -1.0, 'y': 1.0, 'z': -1.0}, {'x': 1.0, 'y': 1.0, 'z': -1.0}, {'x': 1.0, 'y': -1.0, 'z': -1.0}, {'x': -1.0, 'y': -1.0, 'z': -1.0}], [{'x': -1.0, 'y': 1.0, 'z': -1.0}, {'x': -1.0, 'y': -1.0, 'z': -1.0}, {'x': -1.3331773281097412, 'y': -0.08392786979675293, 'z': -0.6690405011177063}, {'x': -1.3331773281097412, 'y': 1.916072130203247, 'z': -0.6690405011177063}], [{'x': -1.0, 'y': 1.0, 'z': -1.0}, {'x': -1.3331773281097412, 'y': 1.916072130203247, 'z': -0.6690405011177063}, {'x': -0.9117384552955627, 'y': 2.0063154697418213, 'z': -0.40377360582351685}, {'x': -0.5785611271858215, 'y': 1.0902433395385742, 'z': -0.7347331047058105}], [{'x': -1.0, 'y': 1.0, 'z': -1.0}, {'x': -0.5785611271858215, 'y': 1.0902433395385742, 'z': -0.7347331047058105}, {'x': -0.3004327118396759, 'y': 1.1598037481307983, 'z': -0.23930585384368896}, {'x': -0.7218716144561768, 'y': 1.0695604085922241, 'z': -0.5045727491378784}]]\n"
      ],
      "execution_count": null,
      "outputs": []
    },
    {
      "cell_type": "code",
      "metadata": {
        "id": "qs5ObTu_hC0B",
        "colab": {
          "base_uri": "https://localhost:8080/",
          "height": 542
        },
        "outputId": "05af6ad4-fcbb-4950-ae39-363634c6c4a0"
      },
      "source": [
        "import plotly.graph_objects as go\n",
        "import numpy as np\n",
        "\n",
        "colors = [\"#ff3333\", \"#ff336b\", \"#ff33a8\", \"#b533ff\", \"#7a33ff\", \"#3f33ff\", \"#3390ff\"]\n",
        "polys = []\n",
        "# Download data set from plotly repo\n",
        "for count,polygon in enumerate(data):\n",
        "    empty = None\n",
        "    for points in polygon:\n",
        "        \n",
        "        r = list(points.values())\n",
        "        f = np.array([r])\n",
        "        # empty.append(f)\n",
        "        if empty is None:\n",
        "            empty = f\n",
        "        else:\n",
        "            empty = np.append(empty,f, axis=0)\n",
        "    \n",
        "    x, y, z = empty.T\n",
        "    \n",
        "    polys.append(go.Mesh3d(x=x, y=y, z=z, color=colors[count], opacity=0.8))\n",
        "    \n",
        "fig = go.Figure(data=polys)\n",
        "fig.show()"
      ],
      "execution_count": null,
      "outputs": [
        {
          "output_type": "display_data",
          "data": {
            "text/html": [
              "<html>\n",
              "<head><meta charset=\"utf-8\" /></head>\n",
              "<body>\n",
              "    <div>\n",
              "            <script src=\"https://cdnjs.cloudflare.com/ajax/libs/mathjax/2.7.5/MathJax.js?config=TeX-AMS-MML_SVG\"></script><script type=\"text/javascript\">if (window.MathJax) {MathJax.Hub.Config({SVG: {font: \"STIX-Web\"}});}</script>\n",
              "                <script type=\"text/javascript\">window.PlotlyConfig = {MathJaxConfig: 'local'};</script>\n",
              "        <script src=\"https://cdn.plot.ly/plotly-latest.min.js\"></script>    \n",
              "            <div id=\"3e819fa3-b480-4e92-847a-40d38d25ffab\" class=\"plotly-graph-div\" style=\"height:525px; width:100%;\"></div>\n",
              "            <script type=\"text/javascript\">\n",
              "                \n",
              "                    window.PLOTLYENV=window.PLOTLYENV || {};\n",
              "                    \n",
              "                if (document.getElementById(\"3e819fa3-b480-4e92-847a-40d38d25ffab\")) {\n",
              "                    Plotly.newPlot(\n",
              "                        '3e819fa3-b480-4e92-847a-40d38d25ffab',\n",
              "                        [{\"color\": \"#ff3333\", \"opacity\": 0.8, \"type\": \"mesh3d\", \"x\": [-1.0, -1.0792500972747803, 0.920749843120575, 1.0], \"y\": [1.0, 0.5590584874153137, 0.5590584874153137, 1.0], \"z\": [-1.0, -0.3550416827201843, -0.3550416827201843, -1.0]}, {\"color\": \"#ff336b\", \"opacity\": 0.8, \"type\": \"mesh3d\", \"x\": [-1.0, 1.0, 1.0, -1.0], \"y\": [1.0, 1.0, -1.0, -1.0], \"z\": [-1.0, -1.0, -1.0, -1.0]}, {\"color\": \"#ff33a8\", \"opacity\": 0.8, \"type\": \"mesh3d\", \"x\": [-1.0, -1.0, -1.3331773281097412, -1.3331773281097412], \"y\": [1.0, -1.0, -0.08392786979675293, 1.916072130203247], \"z\": [-1.0, -1.0, -0.6690405011177063, -0.6690405011177063]}, {\"color\": \"#b533ff\", \"opacity\": 0.8, \"type\": \"mesh3d\", \"x\": [-1.0, -1.3331773281097412, -0.9117384552955627, -0.5785611271858215], \"y\": [1.0, 1.916072130203247, 2.0063154697418213, 1.0902433395385742], \"z\": [-1.0, -0.6690405011177063, -0.40377360582351685, -0.7347331047058105]}, {\"color\": \"#7a33ff\", \"opacity\": 0.8, \"type\": \"mesh3d\", \"x\": [-1.0, -0.5785611271858215, -0.3004327118396759, -0.7218716144561768], \"y\": [1.0, 1.0902433395385742, 1.1598037481307983, 1.0695604085922241], \"z\": [-1.0, -0.7347331047058105, -0.23930585384368896, -0.5045727491378784]}],\n",
              "                        {\"template\": {\"data\": {\"bar\": [{\"error_x\": {\"color\": \"#2a3f5f\"}, \"error_y\": {\"color\": \"#2a3f5f\"}, \"marker\": {\"line\": {\"color\": \"#E5ECF6\", \"width\": 0.5}}, \"type\": \"bar\"}], \"barpolar\": [{\"marker\": {\"line\": {\"color\": \"#E5ECF6\", \"width\": 0.5}}, \"type\": \"barpolar\"}], \"carpet\": [{\"aaxis\": {\"endlinecolor\": \"#2a3f5f\", \"gridcolor\": \"white\", \"linecolor\": \"white\", \"minorgridcolor\": \"white\", \"startlinecolor\": \"#2a3f5f\"}, \"baxis\": {\"endlinecolor\": \"#2a3f5f\", \"gridcolor\": \"white\", \"linecolor\": \"white\", \"minorgridcolor\": \"white\", \"startlinecolor\": \"#2a3f5f\"}, \"type\": \"carpet\"}], \"choropleth\": [{\"colorbar\": {\"outlinewidth\": 0, \"ticks\": \"\"}, \"type\": \"choropleth\"}], \"contour\": [{\"colorbar\": {\"outlinewidth\": 0, \"ticks\": \"\"}, \"colorscale\": [[0.0, \"#0d0887\"], [0.1111111111111111, \"#46039f\"], [0.2222222222222222, \"#7201a8\"], [0.3333333333333333, \"#9c179e\"], [0.4444444444444444, \"#bd3786\"], [0.5555555555555556, \"#d8576b\"], [0.6666666666666666, \"#ed7953\"], [0.7777777777777778, \"#fb9f3a\"], [0.8888888888888888, \"#fdca26\"], [1.0, \"#f0f921\"]], \"type\": \"contour\"}], \"contourcarpet\": [{\"colorbar\": {\"outlinewidth\": 0, \"ticks\": \"\"}, \"type\": \"contourcarpet\"}], \"heatmap\": [{\"colorbar\": {\"outlinewidth\": 0, \"ticks\": \"\"}, \"colorscale\": [[0.0, \"#0d0887\"], [0.1111111111111111, \"#46039f\"], [0.2222222222222222, \"#7201a8\"], [0.3333333333333333, \"#9c179e\"], [0.4444444444444444, \"#bd3786\"], [0.5555555555555556, \"#d8576b\"], [0.6666666666666666, \"#ed7953\"], [0.7777777777777778, \"#fb9f3a\"], [0.8888888888888888, \"#fdca26\"], [1.0, \"#f0f921\"]], \"type\": \"heatmap\"}], \"heatmapgl\": [{\"colorbar\": {\"outlinewidth\": 0, \"ticks\": \"\"}, \"colorscale\": [[0.0, \"#0d0887\"], [0.1111111111111111, \"#46039f\"], [0.2222222222222222, \"#7201a8\"], [0.3333333333333333, \"#9c179e\"], [0.4444444444444444, \"#bd3786\"], [0.5555555555555556, \"#d8576b\"], [0.6666666666666666, \"#ed7953\"], [0.7777777777777778, \"#fb9f3a\"], [0.8888888888888888, \"#fdca26\"], [1.0, \"#f0f921\"]], \"type\": \"heatmapgl\"}], \"histogram\": [{\"marker\": {\"colorbar\": {\"outlinewidth\": 0, \"ticks\": \"\"}}, \"type\": \"histogram\"}], \"histogram2d\": [{\"colorbar\": {\"outlinewidth\": 0, \"ticks\": \"\"}, \"colorscale\": [[0.0, \"#0d0887\"], [0.1111111111111111, \"#46039f\"], [0.2222222222222222, \"#7201a8\"], [0.3333333333333333, \"#9c179e\"], [0.4444444444444444, \"#bd3786\"], [0.5555555555555556, \"#d8576b\"], [0.6666666666666666, \"#ed7953\"], [0.7777777777777778, \"#fb9f3a\"], [0.8888888888888888, \"#fdca26\"], [1.0, \"#f0f921\"]], \"type\": \"histogram2d\"}], \"histogram2dcontour\": [{\"colorbar\": {\"outlinewidth\": 0, \"ticks\": \"\"}, \"colorscale\": [[0.0, \"#0d0887\"], [0.1111111111111111, \"#46039f\"], [0.2222222222222222, \"#7201a8\"], [0.3333333333333333, \"#9c179e\"], [0.4444444444444444, \"#bd3786\"], [0.5555555555555556, \"#d8576b\"], [0.6666666666666666, \"#ed7953\"], [0.7777777777777778, \"#fb9f3a\"], [0.8888888888888888, \"#fdca26\"], [1.0, \"#f0f921\"]], \"type\": \"histogram2dcontour\"}], \"mesh3d\": [{\"colorbar\": {\"outlinewidth\": 0, \"ticks\": \"\"}, \"type\": \"mesh3d\"}], \"parcoords\": [{\"line\": {\"colorbar\": {\"outlinewidth\": 0, \"ticks\": \"\"}}, \"type\": \"parcoords\"}], \"pie\": [{\"automargin\": true, \"type\": \"pie\"}], \"scatter\": [{\"marker\": {\"colorbar\": {\"outlinewidth\": 0, \"ticks\": \"\"}}, \"type\": \"scatter\"}], \"scatter3d\": [{\"line\": {\"colorbar\": {\"outlinewidth\": 0, \"ticks\": \"\"}}, \"marker\": {\"colorbar\": {\"outlinewidth\": 0, \"ticks\": \"\"}}, \"type\": \"scatter3d\"}], \"scattercarpet\": [{\"marker\": {\"colorbar\": {\"outlinewidth\": 0, \"ticks\": \"\"}}, \"type\": \"scattercarpet\"}], \"scattergeo\": [{\"marker\": {\"colorbar\": {\"outlinewidth\": 0, \"ticks\": \"\"}}, \"type\": \"scattergeo\"}], \"scattergl\": [{\"marker\": {\"colorbar\": {\"outlinewidth\": 0, \"ticks\": \"\"}}, \"type\": \"scattergl\"}], \"scattermapbox\": [{\"marker\": {\"colorbar\": {\"outlinewidth\": 0, \"ticks\": \"\"}}, \"type\": \"scattermapbox\"}], \"scatterpolar\": [{\"marker\": {\"colorbar\": {\"outlinewidth\": 0, \"ticks\": \"\"}}, \"type\": \"scatterpolar\"}], \"scatterpolargl\": [{\"marker\": {\"colorbar\": {\"outlinewidth\": 0, \"ticks\": \"\"}}, \"type\": \"scatterpolargl\"}], \"scatterternary\": [{\"marker\": {\"colorbar\": {\"outlinewidth\": 0, \"ticks\": \"\"}}, \"type\": \"scatterternary\"}], \"surface\": [{\"colorbar\": {\"outlinewidth\": 0, \"ticks\": \"\"}, \"colorscale\": [[0.0, \"#0d0887\"], [0.1111111111111111, \"#46039f\"], [0.2222222222222222, \"#7201a8\"], [0.3333333333333333, \"#9c179e\"], [0.4444444444444444, \"#bd3786\"], [0.5555555555555556, \"#d8576b\"], [0.6666666666666666, \"#ed7953\"], [0.7777777777777778, \"#fb9f3a\"], [0.8888888888888888, \"#fdca26\"], [1.0, \"#f0f921\"]], \"type\": \"surface\"}], \"table\": [{\"cells\": {\"fill\": {\"color\": \"#EBF0F8\"}, \"line\": {\"color\": \"white\"}}, \"header\": {\"fill\": {\"color\": \"#C8D4E3\"}, \"line\": {\"color\": \"white\"}}, \"type\": \"table\"}]}, \"layout\": {\"annotationdefaults\": {\"arrowcolor\": \"#2a3f5f\", \"arrowhead\": 0, \"arrowwidth\": 1}, \"coloraxis\": {\"colorbar\": {\"outlinewidth\": 0, \"ticks\": \"\"}}, \"colorscale\": {\"diverging\": [[0, \"#8e0152\"], [0.1, \"#c51b7d\"], [0.2, \"#de77ae\"], [0.3, \"#f1b6da\"], [0.4, \"#fde0ef\"], [0.5, \"#f7f7f7\"], [0.6, \"#e6f5d0\"], [0.7, \"#b8e186\"], [0.8, \"#7fbc41\"], [0.9, \"#4d9221\"], [1, \"#276419\"]], \"sequential\": [[0.0, \"#0d0887\"], [0.1111111111111111, \"#46039f\"], [0.2222222222222222, \"#7201a8\"], [0.3333333333333333, \"#9c179e\"], [0.4444444444444444, \"#bd3786\"], [0.5555555555555556, \"#d8576b\"], [0.6666666666666666, \"#ed7953\"], [0.7777777777777778, \"#fb9f3a\"], [0.8888888888888888, \"#fdca26\"], [1.0, \"#f0f921\"]], \"sequentialminus\": [[0.0, \"#0d0887\"], [0.1111111111111111, \"#46039f\"], [0.2222222222222222, \"#7201a8\"], [0.3333333333333333, \"#9c179e\"], [0.4444444444444444, \"#bd3786\"], [0.5555555555555556, \"#d8576b\"], [0.6666666666666666, \"#ed7953\"], [0.7777777777777778, \"#fb9f3a\"], [0.8888888888888888, \"#fdca26\"], [1.0, \"#f0f921\"]]}, \"colorway\": [\"#636efa\", \"#EF553B\", \"#00cc96\", \"#ab63fa\", \"#FFA15A\", \"#19d3f3\", \"#FF6692\", \"#B6E880\", \"#FF97FF\", \"#FECB52\"], \"font\": {\"color\": \"#2a3f5f\"}, \"geo\": {\"bgcolor\": \"white\", \"lakecolor\": \"white\", \"landcolor\": \"#E5ECF6\", \"showlakes\": true, \"showland\": true, \"subunitcolor\": \"white\"}, \"hoverlabel\": {\"align\": \"left\"}, \"hovermode\": \"closest\", \"mapbox\": {\"style\": \"light\"}, \"paper_bgcolor\": \"white\", \"plot_bgcolor\": \"#E5ECF6\", \"polar\": {\"angularaxis\": {\"gridcolor\": \"white\", \"linecolor\": \"white\", \"ticks\": \"\"}, \"bgcolor\": \"#E5ECF6\", \"radialaxis\": {\"gridcolor\": \"white\", \"linecolor\": \"white\", \"ticks\": \"\"}}, \"scene\": {\"xaxis\": {\"backgroundcolor\": \"#E5ECF6\", \"gridcolor\": \"white\", \"gridwidth\": 2, \"linecolor\": \"white\", \"showbackground\": true, \"ticks\": \"\", \"zerolinecolor\": \"white\"}, \"yaxis\": {\"backgroundcolor\": \"#E5ECF6\", \"gridcolor\": \"white\", \"gridwidth\": 2, \"linecolor\": \"white\", \"showbackground\": true, \"ticks\": \"\", \"zerolinecolor\": \"white\"}, \"zaxis\": {\"backgroundcolor\": \"#E5ECF6\", \"gridcolor\": \"white\", \"gridwidth\": 2, \"linecolor\": \"white\", \"showbackground\": true, \"ticks\": \"\", \"zerolinecolor\": \"white\"}}, \"shapedefaults\": {\"line\": {\"color\": \"#2a3f5f\"}}, \"ternary\": {\"aaxis\": {\"gridcolor\": \"white\", \"linecolor\": \"white\", \"ticks\": \"\"}, \"baxis\": {\"gridcolor\": \"white\", \"linecolor\": \"white\", \"ticks\": \"\"}, \"bgcolor\": \"#E5ECF6\", \"caxis\": {\"gridcolor\": \"white\", \"linecolor\": \"white\", \"ticks\": \"\"}}, \"title\": {\"x\": 0.05}, \"xaxis\": {\"automargin\": true, \"gridcolor\": \"white\", \"linecolor\": \"white\", \"ticks\": \"\", \"title\": {\"standoff\": 15}, \"zerolinecolor\": \"white\", \"zerolinewidth\": 2}, \"yaxis\": {\"automargin\": true, \"gridcolor\": \"white\", \"linecolor\": \"white\", \"ticks\": \"\", \"title\": {\"standoff\": 15}, \"zerolinecolor\": \"white\", \"zerolinewidth\": 2}}}},\n",
              "                        {\"responsive\": true}\n",
              "                    ).then(function(){\n",
              "                            \n",
              "var gd = document.getElementById('3e819fa3-b480-4e92-847a-40d38d25ffab');\n",
              "var x = new MutationObserver(function (mutations, observer) {{\n",
              "        var display = window.getComputedStyle(gd).display;\n",
              "        if (!display || display === 'none') {{\n",
              "            console.log([gd, 'removed!']);\n",
              "            Plotly.purge(gd);\n",
              "            observer.disconnect();\n",
              "        }}\n",
              "}});\n",
              "\n",
              "// Listen for the removal of the full notebook cells\n",
              "var notebookContainer = gd.closest('#notebook-container');\n",
              "if (notebookContainer) {{\n",
              "    x.observe(notebookContainer, {childList: true});\n",
              "}}\n",
              "\n",
              "// Listen for the clearing of the current output cell\n",
              "var outputEl = gd.closest('.output');\n",
              "if (outputEl) {{\n",
              "    x.observe(outputEl, {childList: true});\n",
              "}}\n",
              "\n",
              "                        })\n",
              "                };\n",
              "                \n",
              "            </script>\n",
              "        </div>\n",
              "</body>\n",
              "</html>"
            ]
          },
          "metadata": {
            "tags": []
          }
        }
      ]
    },
    {
      "cell_type": "markdown",
      "metadata": {
        "id": "1ltLUxgH2LNG"
      },
      "source": [
        "#Example call"
      ]
    },
    {
      "cell_type": "code",
      "metadata": {
        "id": "Z1PMagppzY7l"
      },
      "source": [
        "\n",
        "polys  = []\n",
        "# Download data set from plotly repo\n",
        "for polygon in data:\n",
        "    empty = None\n",
        "    for points in polygon:\n",
        "   \n",
        "        r = list(points.values())\n",
        "        f = np.array([r])\n",
        "     \n",
        "        if empty is None:\n",
        "            empty = f\n",
        "        else:\n",
        "            empty = np.append(empty,f, axis=0)\n",
        "   \n",
        "    polys.append(empty * 1)\n",
        "\n",
        "vertices = np.concatenate(polys, axis=0)\n",
        "face_idxs = np.concatenate([np.ones(poly.shape[0]) * i for i, poly in enumerate(polys)], axis=0)"
      ],
      "execution_count": null,
      "outputs": []
    },
    {
      "cell_type": "code",
      "metadata": {
        "colab": {
          "base_uri": "https://localhost:8080/"
        },
        "id": "x3IisYc5kUp5",
        "outputId": "8082677a-9f12-4ef0-dae3-6c6deee3ac0a"
      },
      "source": [
        "vertices"
      ],
      "execution_count": null,
      "outputs": [
        {
          "output_type": "execute_result",
          "data": {
            "text/plain": [
              "array([[-1.        ,  1.        , -1.        ],\n",
              "       [-1.0792501 ,  0.55905849, -0.35504168],\n",
              "       [ 0.92074984,  0.55905849, -0.35504168],\n",
              "       [ 1.        ,  1.        , -1.        ],\n",
              "       [-1.        ,  1.        , -1.        ],\n",
              "       [ 1.        ,  1.        , -1.        ],\n",
              "       [ 1.        , -1.        , -1.        ],\n",
              "       [-1.        , -1.        , -1.        ],\n",
              "       [-1.        ,  1.        , -1.        ],\n",
              "       [-1.        , -1.        , -1.        ],\n",
              "       [-1.33317733, -0.08392787, -0.6690405 ],\n",
              "       [-1.33317733,  1.91607213, -0.6690405 ],\n",
              "       [-1.        ,  1.        , -1.        ],\n",
              "       [-1.33317733,  1.91607213, -0.6690405 ],\n",
              "       [-0.91173846,  2.00631547, -0.40377361],\n",
              "       [-0.57856113,  1.09024334, -0.7347331 ],\n",
              "       [-1.        ,  1.        , -1.        ],\n",
              "       [-0.57856113,  1.09024334, -0.7347331 ],\n",
              "       [-0.30043271,  1.15980375, -0.23930585],\n",
              "       [-0.72187161,  1.06956041, -0.50457275]])"
            ]
          },
          "metadata": {
            "tags": []
          },
          "execution_count": 36
        }
      ]
    },
    {
      "cell_type": "code",
      "metadata": {
        "colab": {
          "base_uri": "https://localhost:8080/"
        },
        "id": "Zdf2RKbBkV6L",
        "outputId": "2f4fe42f-2fcf-4f9b-80e2-d4a627b20035"
      },
      "source": [
        "face_idxs"
      ],
      "execution_count": null,
      "outputs": [
        {
          "output_type": "execute_result",
          "data": {
            "text/plain": [
              "array([0., 0., 0., 0., 1., 1., 1., 1., 2., 2., 2., 2., 3., 3., 3., 3., 4.,\n",
              "       4., 4., 4.])"
            ]
          },
          "metadata": {
            "tags": []
          },
          "execution_count": 37
        }
      ]
    },
    {
      "cell_type": "code",
      "metadata": {
        "id": "JoaPawXKlm-m"
      },
      "source": [
        "_, idx = np.unique(face_idxs, return_index=True)\n",
        "polygon_count = face_idxs[np.sort(idx)].astype(int).tolist()\n",
        "sort_order = polygon_count"
      ],
      "execution_count": null,
      "outputs": []
    },
    {
      "cell_type": "code",
      "metadata": {
        "colab": {
          "base_uri": "https://localhost:8080/"
        },
        "id": "IFiIE_uZm7IV",
        "outputId": "c60f1479-b013-45b6-d230-08bb12ca8205"
      },
      "source": [
        "polygon = vertices[face_idxs==0]\n",
        "polygon"
      ],
      "execution_count": null,
      "outputs": [
        {
          "output_type": "execute_result",
          "data": {
            "text/plain": [
              "array([[-1.        ,  1.        , -1.        ],\n",
              "       [-1.0792501 ,  0.55905849, -0.35504168],\n",
              "       [ 0.92074984,  0.55905849, -0.35504168],\n",
              "       [ 1.        ,  1.        , -1.        ]])"
            ]
          },
          "metadata": {
            "tags": []
          },
          "execution_count": 39
        }
      ]
    },
    {
      "cell_type": "code",
      "metadata": {
        "colab": {
          "base_uri": "https://localhost:8080/"
        },
        "id": "gU6DUjqEkXhg",
        "outputId": "aa7b8f37-4ef1-40ce-ba86-220d5c979176"
      },
      "source": [
        "# polygon = vertices[face_idxs==node]\n",
        "# normal = np.cross(random vector - normalized , polygon[1] - polygon[0])\n",
        "normal = np.cross(polygon[2] - polygon[0], polygon[1] - polygon[0])\n",
        "p = polygon[0]\n",
        "\n",
        "positive = []\n",
        "negative = []\n",
        "other = []\n",
        "for i in sort_order:\n",
        "  polygon = vertices[face_idxs==i]\n",
        "  \n",
        "  dot = np.around(np.dot(p-polygon, normal), 10)\n",
        "  if (np.all(dot >= 0)):\n",
        "    positive.append(i)\n",
        "  elif (np.all(dot <= 0)):\n",
        "    negative.append(i)\n",
        "  else:\n",
        "    other.append(i)\n",
        "\n",
        "print(positive,negative,other)\n",
        "  \n",
        "    # positive or zero\n",
        "    # negative or zero\n",
        "    # some points are positive or negative\n",
        "\n"
      ],
      "execution_count": null,
      "outputs": [
        {
          "output_type": "stream",
          "text": [
            "[0, 1] [3, 4] [2]\n"
          ],
          "name": "stdout"
        }
      ]
    },
    {
      "cell_type": "code",
      "metadata": {
        "id": "owwY8ANyk-To"
      },
      "source": [
        "polygon = vertices[face_idxs==other[0]]\n",
        "dot = np.around(np.dot(p-polygon, normal), 10)"
      ],
      "execution_count": null,
      "outputs": []
    },
    {
      "cell_type": "code",
      "metadata": {
        "id": "PFMuDNk9lZ9v",
        "colab": {
          "base_uri": "https://localhost:8080/"
        },
        "outputId": "1ac72e4b-8e99-4910-bd79-da11bbf126f1"
      },
      "source": [
        "dot"
      ],
      "execution_count": null,
      "outputs": [
        {
          "output_type": "execute_result",
          "data": {
            "text/plain": [
              "array([ 0.        ,  0.27002808,  0.13899267, -0.13103542])"
            ]
          },
          "metadata": {
            "tags": []
          },
          "execution_count": 95
        }
      ]
    },
    {
      "cell_type": "code",
      "metadata": {
        "id": "3PXGRRaOzjpo"
      },
      "source": [
        "edges = []\n",
        "for i in (polygon[dot < 0]):\n",
        "  for j in (polygon[dot > 0]):\n",
        "    edges.append(np.array([i,j]))"
      ],
      "execution_count": null,
      "outputs": []
    },
    {
      "cell_type": "code",
      "metadata": {
        "id": "Aj3m6Jmb28d0"
      },
      "source": [
        "edge = edges[0]\n",
        "newpoint = edge[0]+(np.dot(edge[0]-p,normal)/np.dot(edge[0]-edge[1],normal)*(edge[1]-edge[0]))"
      ],
      "execution_count": null,
      "outputs": []
    },
    {
      "cell_type": "code",
      "metadata": {
        "colab": {
          "base_uri": "https://localhost:8080/"
        },
        "id": "n2QX5nQUC-zV",
        "outputId": "02c3268c-7864-4e85-f41d-0d690dc92f7b"
      },
      "source": [
        "products = 453\n",
        "pages = products//250\n",
        "pages\n"
      ],
      "execution_count": null,
      "outputs": [
        {
          "output_type": "execute_result",
          "data": {
            "text/plain": [
              "1"
            ]
          },
          "metadata": {
            "tags": []
          },
          "execution_count": 98
        }
      ]
    },
    {
      "cell_type": "code",
      "metadata": {
        "colab": {
          "base_uri": "https://localhost:8080/"
        },
        "id": "LAx4Y4vhDGXK",
        "outputId": "d4d94f0d-f7ff-475a-ae97-e2f0de29b2f4"
      },
      "source": [
        "import math\n",
        "math.ceil(products/250)"
      ],
      "execution_count": null,
      "outputs": [
        {
          "output_type": "execute_result",
          "data": {
            "text/plain": [
              "2"
            ]
          },
          "metadata": {
            "tags": []
          },
          "execution_count": 101
        }
      ]
    },
    {
      "cell_type": "code",
      "metadata": {
        "id": "80UaOPooDnj2"
      },
      "source": [
        ""
      ],
      "execution_count": null,
      "outputs": []
    }
  ]
}